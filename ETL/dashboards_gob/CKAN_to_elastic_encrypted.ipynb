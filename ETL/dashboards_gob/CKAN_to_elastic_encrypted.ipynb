{
 "cells": [
  {
   "cell_type": "code",
   "execution_count": 1,
   "metadata": {},
   "outputs": [],
   "source": [
    "import requests\n",
    "import pandas as pd\n",
    "import numpy as np\n",
    "from elasticsearch import Elasticsearch\n",
    "import os\n",
    "from datetime import datetime as dt\n",
    "import os.path\n",
    "from os import path\n",
    "import sys\n",
    "from importlib import reload\n",
    "import copy\n",
    "import pickle"
   ]
  },
  {
   "cell_type": "code",
   "execution_count": 2,
   "metadata": {},
   "outputs": [],
   "source": [
    "sys.path.append('../..') #agregar directorio madre del repo para poder importar librerias customizadas\n",
    "#importar librerias customizadas"
   ]
  },
  {
   "cell_type": "code",
   "execution_count": 3,
   "metadata": {},
   "outputs": [
    {
     "data": {
      "text/plain": [
       "<module 'modules.Elastic_Module' from '../../modules/Elastic_Module.py'>"
      ]
     },
     "execution_count": 3,
     "metadata": {},
     "output_type": "execute_result"
    }
   ],
   "source": [
    "import modules.Elastic_Module\n",
    "reload(modules.Elastic_Module)"
   ]
  },
  {
   "cell_type": "code",
   "execution_count": 4,
   "metadata": {},
   "outputs": [],
   "source": [
    "from modules.Elastic_Module import *"
   ]
  },
  {
   "cell_type": "code",
   "execution_count": 5,
   "metadata": {},
   "outputs": [],
   "source": [
    "url_ckan='http://datos.gob.cl/api/3/action/package_list'\n",
    "url_package='http://datos.gob.cl/api/3/action/package_show?id='\n",
    "url_package_search='http://datos.gob.cl/api/3/action/package_search?'"
   ]
  },
  {
   "cell_type": "code",
   "execution_count": 6,
   "metadata": {},
   "outputs": [],
   "source": [
    "#Listas de paquetes ckan (con sus ID)\n",
    "ckan_packages=requests.get(url_ckan) #consultar api\n",
    "ckan_packages=ckan_packages.json() #convertir respuesta a json"
   ]
  },
  {
   "cell_type": "code",
   "execution_count": 57,
   "metadata": {},
   "outputs": [
    {
     "data": {
      "text/plain": [
       "['10000',\n",
       " '10002',\n",
       " '10006',\n",
       " '10007',\n",
       " '10010',\n",
       " '10011',\n",
       " '10014',\n",
       " '10029',\n",
       " '10037',\n",
       " '10043',\n",
       " '10049',\n",
       " '10054',\n",
       " '10063',\n",
       " '10069',\n",
       " '10071']"
      ]
     },
     "execution_count": 57,
     "metadata": {},
     "output_type": "execute_result"
    }
   ],
   "source": [
    "ckan_packages['result'][0:15]"
   ]
  },
  {
   "cell_type": "code",
   "execution_count": 8,
   "metadata": {},
   "outputs": [],
   "source": [
    "#OBTENER TODOS LOS PAQUETES DE LA BASE DE DATOS CKAN\n",
    "rows=str(1000) #maximo numero de resultados por consulta (maximo permitido es 1000)\n",
    "packs=[] #contenedor de paquetes retornados\n",
    "for s in range(0,4):\n",
    "    start=str(s*int(rows)) #paginacion\n",
    "    packages=requests.get(url_package_search+'rows='+rows+'&'+'start='+start)\n",
    "    packages=packages.json()\n",
    "    packs.extend(packages['result']['results'])"
   ]
  },
  {
   "cell_type": "code",
   "execution_count": 9,
   "metadata": {},
   "outputs": [],
   "source": [
    "#revisar root de los paquetes\n",
    "#root={}\n",
    "#for k,v in packs[0].items():\n",
    "#    if (k!='resources') & (k!='organization') :\n",
    "#        root[k]=v"
   ]
  },
  {
   "cell_type": "code",
   "execution_count": 10,
   "metadata": {},
   "outputs": [],
   "source": [
    "recursos=[]\n",
    "for p in packs:\n",
    "    for r in p['resources']:\n",
    "        d=copy.deepcopy(r)\n",
    "        #parámetros del paquete\n",
    "        d['package_id']=p['id'] #id\n",
    "        d['package_name']=p['name'] #nombre\n",
    "        d['package_title']=p['title'] #titulo\n",
    "        d['package_notes']=p['notes'] #notas\n",
    "        if 'organization' in p.keys(): #si es que existe info de organizacion\n",
    "            if p['organization']!=None:\n",
    "                d['inst.']=p['organization']['title'] #si es que existe info del titulo incluirlo\n",
    "                d['inst_name']=p['organization']['name'] #si es que existe info del titulo incluirlo\n",
    "                d['inst_id']=p['organization']['id'] #si es que existe info del id inst.\n",
    "            else:\n",
    "                d['inst.']=None\n",
    "                d['inst_name']=None\n",
    "                d['inst_id']=None\n",
    "        recursos.append(d)\n",
    "recursos=pd.DataFrame(recursos) #convertir a df        "
   ]
  },
  {
   "cell_type": "code",
   "execution_count": 11,
   "metadata": {},
   "outputs": [],
   "source": [
    "recursos=recursos.rename(columns={'last_modified':'fecha','format':'formato'}) #cambiar nombres de columnas"
   ]
  },
  {
   "cell_type": "code",
   "execution_count": 12,
   "metadata": {},
   "outputs": [],
   "source": [
    "recursos=recursos.drop(['mimetype','cache_url','url','cache_last_updated','hash','url_type','webstore_url','webstore_last_updated',\n",
    "              'mimetype_inner','position','resource_type'],axis=1) #botar columnas"
   ]
  },
  {
   "cell_type": "code",
   "execution_count": 13,
   "metadata": {},
   "outputs": [],
   "source": [
    "recursos['fecha']=pd.to_datetime(recursos['fecha']) #convertir la fecha a formato solo con la fecha (sin la hora)\n",
    "#desagregar en dia, mes, año\n",
    "recursos['dia']=recursos['fecha'].dt.date\n",
    "recursos['year']=recursos['fecha'].dt.year\n",
    "recursos['mes']=recursos['fecha'].dt.month"
   ]
  },
  {
   "cell_type": "code",
   "execution_count": 14,
   "metadata": {},
   "outputs": [],
   "source": [
    "#guardar paso en csv\n",
    "path='/data/cache/ckan/state_datos_gob'\n",
    "now = dt.now()\n",
    "date_time = now.strftime(\"_%m-%d-%Y_%H-%M-%S\")"
   ]
  },
  {
   "cell_type": "code",
   "execution_count": 15,
   "metadata": {},
   "outputs": [],
   "source": [
    "recursos.to_csv(path+date_time+'.csv')"
   ]
  },
  {
   "cell_type": "code",
   "execution_count": 16,
   "metadata": {},
   "outputs": [],
   "source": [
    "#guardar data de paquetes cruda en pickle y borrar para liberar espacio en memoria\n",
    "with open(path+date_time+'.pickle', 'wb') as f:\n",
    "    pickle.dump(packs, f)\n",
    "del(packs)"
   ]
  },
  {
   "cell_type": "code",
   "execution_count": 17,
   "metadata": {},
   "outputs": [],
   "source": [
    "#RUTA PARA RECUPERAR PASO GUARDADO EN CSV\n",
    "#ls /data/cache/ckan/state_datos_gob*"
   ]
  },
  {
   "cell_type": "code",
   "execution_count": 18,
   "metadata": {},
   "outputs": [],
   "source": [
    "#RECUPERAR PASO GUARDADO EN CSV\n",
    "#recursos=pd.read_csv('/data/cache/ckan/state_datos_gob_03-31-2020_05-05-15.csv',index_col=0)"
   ]
  },
  {
   "cell_type": "code",
   "execution_count": 19,
   "metadata": {},
   "outputs": [],
   "source": [
    "data=recursos.to_dict(orient='records')"
   ]
  },
  {
   "cell_type": "code",
   "execution_count": 20,
   "metadata": {},
   "outputs": [],
   "source": [
    "#variables de entorno\n",
    "args={}\n",
    "args['elastic_user']='elastic'\n",
    "args['elastic_psswd']=os.environ['ELASTIC_PASSWD']\n",
    "args['DOMAIN_ELASTIC']=os.environ['DOMAIN_ELASTIC']\n",
    "args['ELASTIC_PORT']=os.environ['ELASTIC_PORT']"
   ]
  },
  {
   "cell_type": "code",
   "execution_count": 26,
   "metadata": {},
   "outputs": [],
   "source": [
    "ES_HOST = \"https://\"+args['DOMAIN_ELASTIC']\n",
    "basic_auth={'user':args['elastic_user'], 'psswd':args['elastic_psswd']}"
   ]
  },
  {
   "cell_type": "code",
   "execution_count": 35,
   "metadata": {},
   "outputs": [],
   "source": [
    "es=elastic_connection(ES_HOST,basic_auth=basic_auth)"
   ]
  },
  {
   "cell_type": "code",
   "execution_count": 36,
   "metadata": {},
   "outputs": [
    {
     "name": "stdout",
     "output_type": "stream",
     "text": [
      "True\n"
     ]
    }
   ],
   "source": [
    "es.ping()"
   ]
  },
  {
   "cell_type": "code",
   "execution_count": 37,
   "metadata": {},
   "outputs": [],
   "source": [
    "#generar campos concatenados (parámetros)\n",
    "generateID_params_custom={'fields':['package_id','id'], #campos a concatenar\n",
    "                               'head':20, #numero de caracteres a dejar\n",
    "                                'sep':'_' #separador entre campos\n",
    "                               }"
   ]
  },
  {
   "cell_type": "code",
   "execution_count": 38,
   "metadata": {},
   "outputs": [],
   "source": [
    "es.generateID_params_custom=generateID_params_custom"
   ]
  },
  {
   "cell_type": "code",
   "execution_count": 39,
   "metadata": {},
   "outputs": [],
   "source": [
    "es.add_docs(recursos)"
   ]
  },
  {
   "cell_type": "code",
   "execution_count": 44,
   "metadata": {},
   "outputs": [],
   "source": [
    "indexes=[\n",
    "    ('ckan','ckan')\n",
    "        ]"
   ]
  },
  {
   "cell_type": "code",
   "execution_count": 45,
   "metadata": {},
   "outputs": [
    {
     "name": "stdout",
     "output_type": "stream",
     "text": [
      "creando paquetes de data bulk\n",
      "size of bulk docs is : 0.1953125 Kbs\n",
      "N° docs: 10634.0, N° chunks: 15\n"
     ]
    }
   ],
   "source": [
    "#generar bulk data\n",
    "i=indexes[0]\n",
    "n=1500\n",
    "id_field='id'\n",
    "es.bulk_data(INDEX_NAME=i[0],_type=i[1],n=n,id_field=id_field)\n",
    "#test"
   ]
  },
  {
   "cell_type": "code",
   "execution_count": 46,
   "metadata": {},
   "outputs": [
    {
     "data": {
      "text/plain": [
       "1500"
      ]
     },
     "execution_count": 46,
     "metadata": {},
     "output_type": "execute_result"
    }
   ],
   "source": [
    "len(es.chunks[0])"
   ]
  },
  {
   "cell_type": "code",
   "execution_count": 47,
   "metadata": {},
   "outputs": [],
   "source": [
    "#prepar la data para elastic search\n",
    "es.elastic_prepare_pattern()"
   ]
  },
  {
   "cell_type": "code",
   "execution_count": 48,
   "metadata": {},
   "outputs": [],
   "source": [
    "#es.chunks[0]"
   ]
  },
  {
   "cell_type": "code",
   "execution_count": 53,
   "metadata": {},
   "outputs": [
    {
     "name": "stdout",
     "output_type": "stream",
     "text": [
      "deleting 'ckan' index...\n",
      " response: '{'acknowledged': True}'\n",
      "creating 'ckan' index...\n",
      " response: '{'acknowledged': True, 'shards_acknowledged': True, 'index': 'ckan'}'\n"
     ]
    }
   ],
   "source": [
    "es.clear_index(i[0])"
   ]
  },
  {
   "cell_type": "code",
   "execution_count": 54,
   "metadata": {},
   "outputs": [
    {
     "name": "stdout",
     "output_type": "stream",
     "text": [
      "bulk indexing...:index---> ckan\n",
      "\r",
      " indexing chunk : 0 of 15"
     ]
    },
    {
     "name": "stderr",
     "output_type": "stream",
     "text": [
      "../../modules/Elastic_Module.py:140: ElasticsearchDeprecationWarning: [types removal] Specifying types in bulk requests is deprecated.\n",
      "  res = es.bulk(index = INDEX_NAME_, body = chunks[idx],refresh = True)\n"
     ]
    },
    {
     "name": "stdout",
     "output_type": "stream",
     "text": [
      " indexing chunk : 14 of 15finished bulk indexing\n",
      "No recorded ES indexing errors\n",
      "No recorded ES indexing exceptions\n"
     ]
    }
   ],
   "source": [
    "es.bulk_index()"
   ]
  },
  {
   "cell_type": "code",
   "execution_count": 55,
   "metadata": {},
   "outputs": [
    {
     "name": "stderr",
     "output_type": "stream",
     "text": [
      "../../modules/Elastic_Module.py:78: FutureWarning: pandas.io.json.json_normalize is deprecated, use pandas.json_normalize instead\n",
      "  df = json_normalize([x['_source'] for x in res['hits']['hits']])\n"
     ]
    },
    {
     "data": {
      "text/html": [
       "<div>\n",
       "<style scoped>\n",
       "    .dataframe tbody tr th:only-of-type {\n",
       "        vertical-align: middle;\n",
       "    }\n",
       "\n",
       "    .dataframe tbody tr th {\n",
       "        vertical-align: top;\n",
       "    }\n",
       "\n",
       "    .dataframe thead th {\n",
       "        text-align: right;\n",
       "    }\n",
       "</style>\n",
       "<table border=\"1\" class=\"dataframe\">\n",
       "  <thead>\n",
       "    <tr style=\"text-align: right;\">\n",
       "      <th></th>\n",
       "      <th>description</th>\n",
       "      <th>name</th>\n",
       "      <th>formato</th>\n",
       "      <th>package_id</th>\n",
       "      <th>created</th>\n",
       "      <th>state</th>\n",
       "      <th>fecha</th>\n",
       "      <th>revision_id</th>\n",
       "      <th>size</th>\n",
       "      <th>package_name</th>\n",
       "      <th>package_title</th>\n",
       "      <th>package_notes</th>\n",
       "      <th>inst.</th>\n",
       "      <th>inst_name</th>\n",
       "      <th>inst_id</th>\n",
       "      <th>dia</th>\n",
       "      <th>year</th>\n",
       "      <th>mes</th>\n",
       "    </tr>\n",
       "  </thead>\n",
       "  <tbody>\n",
       "    <tr>\n",
       "      <th>0</th>\n",
       "      <td>Archivo de registros de ítems correspondientes...</td>\n",
       "      <td>Exportaciones Enero 2020</td>\n",
       "      <td>RAR</td>\n",
       "      <td>8ffb8730-8408-4db1-8217-c0fa2a955cff</td>\n",
       "      <td>2020-02-27T11:40:30.836089</td>\n",
       "      <td>active</td>\n",
       "      <td>2020-02-27T14:40:30.733565</td>\n",
       "      <td>ca4e37f5-6b6c-4b73-887f-cf8f6f175160</td>\n",
       "      <td>None</td>\n",
       "      <td>registro-de-exportacion-2020</td>\n",
       "      <td>Registro de Exportación 2020</td>\n",
       "      <td>Muestra el registro de ítems correspondientes ...</td>\n",
       "      <td>Servicio Nacional de Aduanas</td>\n",
       "      <td>servicio_nacional_de_aduanas</td>\n",
       "      <td>AE007</td>\n",
       "      <td>2020-02-27</td>\n",
       "      <td>2020.0</td>\n",
       "      <td>2.0</td>\n",
       "    </tr>\n",
       "    <tr>\n",
       "      <th>1</th>\n",
       "      <td>Archivo de registros de ítems correspondientes...</td>\n",
       "      <td>Exportaciones Enero 2020 – Bultos</td>\n",
       "      <td>RAR</td>\n",
       "      <td>8ffb8730-8408-4db1-8217-c0fa2a955cff</td>\n",
       "      <td>2020-02-27T11:44:51.362792</td>\n",
       "      <td>active</td>\n",
       "      <td>2020-02-27T14:44:51.262023</td>\n",
       "      <td>ca4e37f5-6b6c-4b73-887f-cf8f6f175160</td>\n",
       "      <td>None</td>\n",
       "      <td>registro-de-exportacion-2020</td>\n",
       "      <td>Registro de Exportación 2020</td>\n",
       "      <td>Muestra el registro de ítems correspondientes ...</td>\n",
       "      <td>Servicio Nacional de Aduanas</td>\n",
       "      <td>servicio_nacional_de_aduanas</td>\n",
       "      <td>AE007</td>\n",
       "      <td>2020-02-27</td>\n",
       "      <td>2020.0</td>\n",
       "      <td>2.0</td>\n",
       "    </tr>\n",
       "    <tr>\n",
       "      <th>2</th>\n",
       "      <td>Archivo de registros de ítems correspondientes...</td>\n",
       "      <td>Exportaciones Enero 2020 – Documentos de Trans...</td>\n",
       "      <td>RAR</td>\n",
       "      <td>8ffb8730-8408-4db1-8217-c0fa2a955cff</td>\n",
       "      <td>2020-02-27T11:45:52.687192</td>\n",
       "      <td>active</td>\n",
       "      <td>2020-02-27T14:45:52.586540</td>\n",
       "      <td>ca4e37f5-6b6c-4b73-887f-cf8f6f175160</td>\n",
       "      <td>None</td>\n",
       "      <td>registro-de-exportacion-2020</td>\n",
       "      <td>Registro de Exportación 2020</td>\n",
       "      <td>Muestra el registro de ítems correspondientes ...</td>\n",
       "      <td>Servicio Nacional de Aduanas</td>\n",
       "      <td>servicio_nacional_de_aduanas</td>\n",
       "      <td>AE007</td>\n",
       "      <td>2020-02-27</td>\n",
       "      <td>2020.0</td>\n",
       "      <td>2.0</td>\n",
       "    </tr>\n",
       "    <tr>\n",
       "      <th>3</th>\n",
       "      <td>Archivo de registros de ítems correspondientes...</td>\n",
       "      <td>Exportaciones Febrero 2020</td>\n",
       "      <td>RAR</td>\n",
       "      <td>8ffb8730-8408-4db1-8217-c0fa2a955cff</td>\n",
       "      <td>2020-04-01T12:53:37.909996</td>\n",
       "      <td>active</td>\n",
       "      <td>2020-04-01T15:53:37.801486</td>\n",
       "      <td>843bfea9-ad50-4701-bce6-0b6acea9c080</td>\n",
       "      <td>None</td>\n",
       "      <td>registro-de-exportacion-2020</td>\n",
       "      <td>Registro de Exportación 2020</td>\n",
       "      <td>Muestra el registro de ítems correspondientes ...</td>\n",
       "      <td>Servicio Nacional de Aduanas</td>\n",
       "      <td>servicio_nacional_de_aduanas</td>\n",
       "      <td>AE007</td>\n",
       "      <td>2020-04-01</td>\n",
       "      <td>2020.0</td>\n",
       "      <td>4.0</td>\n",
       "    </tr>\n",
       "    <tr>\n",
       "      <th>4</th>\n",
       "      <td>Archivo de registros de ítems correspondientes...</td>\n",
       "      <td>Exportaciones Febrero 2020 - Bultos</td>\n",
       "      <td>RAR</td>\n",
       "      <td>8ffb8730-8408-4db1-8217-c0fa2a955cff</td>\n",
       "      <td>2020-04-01T12:54:55.264410</td>\n",
       "      <td>active</td>\n",
       "      <td>2020-04-01T15:56:10.799996</td>\n",
       "      <td>10792899-d3ed-49c3-9a67-3eb2a3dc61fb</td>\n",
       "      <td>None</td>\n",
       "      <td>registro-de-exportacion-2020</td>\n",
       "      <td>Registro de Exportación 2020</td>\n",
       "      <td>Muestra el registro de ítems correspondientes ...</td>\n",
       "      <td>Servicio Nacional de Aduanas</td>\n",
       "      <td>servicio_nacional_de_aduanas</td>\n",
       "      <td>AE007</td>\n",
       "      <td>2020-04-01</td>\n",
       "      <td>2020.0</td>\n",
       "      <td>4.0</td>\n",
       "    </tr>\n",
       "    <tr>\n",
       "      <th>5</th>\n",
       "      <td>Archivo de registros de ítems correspondientes...</td>\n",
       "      <td>Exportaciones Febrero 2020 - Documentos de Tra...</td>\n",
       "      <td>RAR</td>\n",
       "      <td>8ffb8730-8408-4db1-8217-c0fa2a955cff</td>\n",
       "      <td>2020-04-01T12:57:48.850237</td>\n",
       "      <td>active</td>\n",
       "      <td>2020-04-01T15:57:48.751851</td>\n",
       "      <td>40cf1794-9c94-4be2-a082-34d4fe453762</td>\n",
       "      <td>None</td>\n",
       "      <td>registro-de-exportacion-2020</td>\n",
       "      <td>Registro de Exportación 2020</td>\n",
       "      <td>Muestra el registro de ítems correspondientes ...</td>\n",
       "      <td>Servicio Nacional de Aduanas</td>\n",
       "      <td>servicio_nacional_de_aduanas</td>\n",
       "      <td>AE007</td>\n",
       "      <td>2020-04-01</td>\n",
       "      <td>2020.0</td>\n",
       "      <td>4.0</td>\n",
       "    </tr>\n",
       "    <tr>\n",
       "      <th>6</th>\n",
       "      <td>Archivo de registros de ítems correspondientes...</td>\n",
       "      <td>Exportaciones Marzo 2020</td>\n",
       "      <td>RAR</td>\n",
       "      <td>8ffb8730-8408-4db1-8217-c0fa2a955cff</td>\n",
       "      <td>2020-04-29T18:30:59.234093</td>\n",
       "      <td>active</td>\n",
       "      <td>2020-04-29T21:30:59.143689</td>\n",
       "      <td>603371a4-e55c-4953-a779-1c91169bfcd3</td>\n",
       "      <td>None</td>\n",
       "      <td>registro-de-exportacion-2020</td>\n",
       "      <td>Registro de Exportación 2020</td>\n",
       "      <td>Muestra el registro de ítems correspondientes ...</td>\n",
       "      <td>Servicio Nacional de Aduanas</td>\n",
       "      <td>servicio_nacional_de_aduanas</td>\n",
       "      <td>AE007</td>\n",
       "      <td>2020-04-29</td>\n",
       "      <td>2020.0</td>\n",
       "      <td>4.0</td>\n",
       "    </tr>\n",
       "    <tr>\n",
       "      <th>7</th>\n",
       "      <td>Archivo de registros de ítems correspondientes...</td>\n",
       "      <td>Exportaciones Marzo 2020 - Bultos</td>\n",
       "      <td>RAR</td>\n",
       "      <td>8ffb8730-8408-4db1-8217-c0fa2a955cff</td>\n",
       "      <td>2020-04-29T18:31:51.519550</td>\n",
       "      <td>active</td>\n",
       "      <td>2020-04-29T21:31:51.422127</td>\n",
       "      <td>d0cc62ec-1786-4bfe-9111-7d572029193d</td>\n",
       "      <td>None</td>\n",
       "      <td>registro-de-exportacion-2020</td>\n",
       "      <td>Registro de Exportación 2020</td>\n",
       "      <td>Muestra el registro de ítems correspondientes ...</td>\n",
       "      <td>Servicio Nacional de Aduanas</td>\n",
       "      <td>servicio_nacional_de_aduanas</td>\n",
       "      <td>AE007</td>\n",
       "      <td>2020-04-29</td>\n",
       "      <td>2020.0</td>\n",
       "      <td>4.0</td>\n",
       "    </tr>\n",
       "    <tr>\n",
       "      <th>8</th>\n",
       "      <td>Archivo de registros de ítems correspondientes...</td>\n",
       "      <td>Exportaciones Marzo 2020 - Documentos de Trans...</td>\n",
       "      <td>RAR</td>\n",
       "      <td>8ffb8730-8408-4db1-8217-c0fa2a955cff</td>\n",
       "      <td>2020-04-29T18:32:59.316328</td>\n",
       "      <td>active</td>\n",
       "      <td>2020-04-29T21:32:59.195983</td>\n",
       "      <td>cdb89728-af32-4225-92cb-8022ca303f45</td>\n",
       "      <td>None</td>\n",
       "      <td>registro-de-exportacion-2020</td>\n",
       "      <td>Registro de Exportación 2020</td>\n",
       "      <td>Muestra el registro de ítems correspondientes ...</td>\n",
       "      <td>Servicio Nacional de Aduanas</td>\n",
       "      <td>servicio_nacional_de_aduanas</td>\n",
       "      <td>AE007</td>\n",
       "      <td>2020-04-29</td>\n",
       "      <td>2020.0</td>\n",
       "      <td>4.0</td>\n",
       "    </tr>\n",
       "    <tr>\n",
       "      <th>9</th>\n",
       "      <td>Archivo de registros de ítems correspondientes...</td>\n",
       "      <td>Exportaciones Abril 2020</td>\n",
       "      <td>RAR</td>\n",
       "      <td>8ffb8730-8408-4db1-8217-c0fa2a955cff</td>\n",
       "      <td>2020-05-28T23:59:48.059224</td>\n",
       "      <td>active</td>\n",
       "      <td>2020-05-29T02:59:47.966577</td>\n",
       "      <td>8bfcd662-8858-413e-afe0-dd58bda47b6d</td>\n",
       "      <td>None</td>\n",
       "      <td>registro-de-exportacion-2020</td>\n",
       "      <td>Registro de Exportación 2020</td>\n",
       "      <td>Muestra el registro de ítems correspondientes ...</td>\n",
       "      <td>Servicio Nacional de Aduanas</td>\n",
       "      <td>servicio_nacional_de_aduanas</td>\n",
       "      <td>AE007</td>\n",
       "      <td>2020-05-29</td>\n",
       "      <td>2020.0</td>\n",
       "      <td>5.0</td>\n",
       "    </tr>\n",
       "    <tr>\n",
       "      <th>10</th>\n",
       "      <td>Archivo de registros de ítems correspondientes...</td>\n",
       "      <td>Exportaciones Abril 2020 – Bultos</td>\n",
       "      <td>RAR</td>\n",
       "      <td>8ffb8730-8408-4db1-8217-c0fa2a955cff</td>\n",
       "      <td>2020-05-29T00:01:43.756583</td>\n",
       "      <td>active</td>\n",
       "      <td>2020-05-29T03:01:43.662433</td>\n",
       "      <td>23273394-8502-41c4-855d-b369ea1eac21</td>\n",
       "      <td>None</td>\n",
       "      <td>registro-de-exportacion-2020</td>\n",
       "      <td>Registro de Exportación 2020</td>\n",
       "      <td>Muestra el registro de ítems correspondientes ...</td>\n",
       "      <td>Servicio Nacional de Aduanas</td>\n",
       "      <td>servicio_nacional_de_aduanas</td>\n",
       "      <td>AE007</td>\n",
       "      <td>2020-05-29</td>\n",
       "      <td>2020.0</td>\n",
       "      <td>5.0</td>\n",
       "    </tr>\n",
       "    <tr>\n",
       "      <th>11</th>\n",
       "      <td>Archivo de registros de ítems correspondientes...</td>\n",
       "      <td>Exportaciones Abril 2020 – Documentos de Trans...</td>\n",
       "      <td>RAR</td>\n",
       "      <td>8ffb8730-8408-4db1-8217-c0fa2a955cff</td>\n",
       "      <td>2020-05-29T00:02:50.082955</td>\n",
       "      <td>active</td>\n",
       "      <td>2020-05-29T03:02:49.989647</td>\n",
       "      <td>1939f15c-7a78-4732-b078-fedbf9ea9dff</td>\n",
       "      <td>None</td>\n",
       "      <td>registro-de-exportacion-2020</td>\n",
       "      <td>Registro de Exportación 2020</td>\n",
       "      <td>Muestra el registro de ítems correspondientes ...</td>\n",
       "      <td>Servicio Nacional de Aduanas</td>\n",
       "      <td>servicio_nacional_de_aduanas</td>\n",
       "      <td>AE007</td>\n",
       "      <td>2020-05-29</td>\n",
       "      <td>2020.0</td>\n",
       "      <td>5.0</td>\n",
       "    </tr>\n",
       "    <tr>\n",
       "      <th>12</th>\n",
       "      <td>Archivo de registros de ítems correspondientes...</td>\n",
       "      <td>Exportaciones Mayo 2020</td>\n",
       "      <td>RAR</td>\n",
       "      <td>8ffb8730-8408-4db1-8217-c0fa2a955cff</td>\n",
       "      <td>2020-06-30T12:00:00.763151</td>\n",
       "      <td>active</td>\n",
       "      <td>2020-06-30T15:00:00.600423</td>\n",
       "      <td>fa6c8b12-5655-47b8-bbf1-f1d74135edce</td>\n",
       "      <td>None</td>\n",
       "      <td>registro-de-exportacion-2020</td>\n",
       "      <td>Registro de Exportación 2020</td>\n",
       "      <td>Muestra el registro de ítems correspondientes ...</td>\n",
       "      <td>Servicio Nacional de Aduanas</td>\n",
       "      <td>servicio_nacional_de_aduanas</td>\n",
       "      <td>AE007</td>\n",
       "      <td>2020-06-30</td>\n",
       "      <td>2020.0</td>\n",
       "      <td>6.0</td>\n",
       "    </tr>\n",
       "    <tr>\n",
       "      <th>13</th>\n",
       "      <td>Archivo de registros de ítems correspondientes...</td>\n",
       "      <td>Exportaciones Mayo 2020 – Bultos</td>\n",
       "      <td>RAR</td>\n",
       "      <td>8ffb8730-8408-4db1-8217-c0fa2a955cff</td>\n",
       "      <td>2020-06-30T12:02:12.433423</td>\n",
       "      <td>active</td>\n",
       "      <td>2020-06-30T15:02:12.265220</td>\n",
       "      <td>34398713-fb07-4975-8aff-c37380baf53c</td>\n",
       "      <td>None</td>\n",
       "      <td>registro-de-exportacion-2020</td>\n",
       "      <td>Registro de Exportación 2020</td>\n",
       "      <td>Muestra el registro de ítems correspondientes ...</td>\n",
       "      <td>Servicio Nacional de Aduanas</td>\n",
       "      <td>servicio_nacional_de_aduanas</td>\n",
       "      <td>AE007</td>\n",
       "      <td>2020-06-30</td>\n",
       "      <td>2020.0</td>\n",
       "      <td>6.0</td>\n",
       "    </tr>\n",
       "    <tr>\n",
       "      <th>14</th>\n",
       "      <td>Archivo de registros de ítems correspondientes...</td>\n",
       "      <td>Exportaciones Mayo 2020 – Documentos de Transp...</td>\n",
       "      <td>RAR</td>\n",
       "      <td>8ffb8730-8408-4db1-8217-c0fa2a955cff</td>\n",
       "      <td>2020-06-30T12:03:09.559681</td>\n",
       "      <td>active</td>\n",
       "      <td>2020-06-30T15:03:09.418796</td>\n",
       "      <td>34398713-fb07-4975-8aff-c37380baf53c</td>\n",
       "      <td>None</td>\n",
       "      <td>registro-de-exportacion-2020</td>\n",
       "      <td>Registro de Exportación 2020</td>\n",
       "      <td>Muestra el registro de ítems correspondientes ...</td>\n",
       "      <td>Servicio Nacional de Aduanas</td>\n",
       "      <td>servicio_nacional_de_aduanas</td>\n",
       "      <td>AE007</td>\n",
       "      <td>2020-06-30</td>\n",
       "      <td>2020.0</td>\n",
       "      <td>6.0</td>\n",
       "    </tr>\n",
       "  </tbody>\n",
       "</table>\n",
       "</div>"
      ],
      "text/plain": [
       "                                          description  \\\n",
       "0   Archivo de registros de ítems correspondientes...   \n",
       "1   Archivo de registros de ítems correspondientes...   \n",
       "2   Archivo de registros de ítems correspondientes...   \n",
       "3   Archivo de registros de ítems correspondientes...   \n",
       "4   Archivo de registros de ítems correspondientes...   \n",
       "5   Archivo de registros de ítems correspondientes...   \n",
       "6   Archivo de registros de ítems correspondientes...   \n",
       "7   Archivo de registros de ítems correspondientes...   \n",
       "8   Archivo de registros de ítems correspondientes...   \n",
       "9   Archivo de registros de ítems correspondientes...   \n",
       "10  Archivo de registros de ítems correspondientes...   \n",
       "11  Archivo de registros de ítems correspondientes...   \n",
       "12  Archivo de registros de ítems correspondientes...   \n",
       "13  Archivo de registros de ítems correspondientes...   \n",
       "14  Archivo de registros de ítems correspondientes...   \n",
       "\n",
       "                                                 name formato  \\\n",
       "0                           Exportaciones Enero 2020      RAR   \n",
       "1                   Exportaciones Enero 2020 – Bultos     RAR   \n",
       "2   Exportaciones Enero 2020 – Documentos de Trans...     RAR   \n",
       "3                          Exportaciones Febrero 2020     RAR   \n",
       "4                 Exportaciones Febrero 2020 - Bultos     RAR   \n",
       "5   Exportaciones Febrero 2020 - Documentos de Tra...     RAR   \n",
       "6                            Exportaciones Marzo 2020     RAR   \n",
       "7                   Exportaciones Marzo 2020 - Bultos     RAR   \n",
       "8   Exportaciones Marzo 2020 - Documentos de Trans...     RAR   \n",
       "9                            Exportaciones Abril 2020     RAR   \n",
       "10                  Exportaciones Abril 2020 – Bultos     RAR   \n",
       "11  Exportaciones Abril 2020 – Documentos de Trans...     RAR   \n",
       "12                            Exportaciones Mayo 2020     RAR   \n",
       "13                   Exportaciones Mayo 2020 – Bultos     RAR   \n",
       "14  Exportaciones Mayo 2020 – Documentos de Transp...     RAR   \n",
       "\n",
       "                              package_id                     created   state  \\\n",
       "0   8ffb8730-8408-4db1-8217-c0fa2a955cff  2020-02-27T11:40:30.836089  active   \n",
       "1   8ffb8730-8408-4db1-8217-c0fa2a955cff  2020-02-27T11:44:51.362792  active   \n",
       "2   8ffb8730-8408-4db1-8217-c0fa2a955cff  2020-02-27T11:45:52.687192  active   \n",
       "3   8ffb8730-8408-4db1-8217-c0fa2a955cff  2020-04-01T12:53:37.909996  active   \n",
       "4   8ffb8730-8408-4db1-8217-c0fa2a955cff  2020-04-01T12:54:55.264410  active   \n",
       "5   8ffb8730-8408-4db1-8217-c0fa2a955cff  2020-04-01T12:57:48.850237  active   \n",
       "6   8ffb8730-8408-4db1-8217-c0fa2a955cff  2020-04-29T18:30:59.234093  active   \n",
       "7   8ffb8730-8408-4db1-8217-c0fa2a955cff  2020-04-29T18:31:51.519550  active   \n",
       "8   8ffb8730-8408-4db1-8217-c0fa2a955cff  2020-04-29T18:32:59.316328  active   \n",
       "9   8ffb8730-8408-4db1-8217-c0fa2a955cff  2020-05-28T23:59:48.059224  active   \n",
       "10  8ffb8730-8408-4db1-8217-c0fa2a955cff  2020-05-29T00:01:43.756583  active   \n",
       "11  8ffb8730-8408-4db1-8217-c0fa2a955cff  2020-05-29T00:02:50.082955  active   \n",
       "12  8ffb8730-8408-4db1-8217-c0fa2a955cff  2020-06-30T12:00:00.763151  active   \n",
       "13  8ffb8730-8408-4db1-8217-c0fa2a955cff  2020-06-30T12:02:12.433423  active   \n",
       "14  8ffb8730-8408-4db1-8217-c0fa2a955cff  2020-06-30T12:03:09.559681  active   \n",
       "\n",
       "                         fecha                           revision_id  size  \\\n",
       "0   2020-02-27T14:40:30.733565  ca4e37f5-6b6c-4b73-887f-cf8f6f175160  None   \n",
       "1   2020-02-27T14:44:51.262023  ca4e37f5-6b6c-4b73-887f-cf8f6f175160  None   \n",
       "2   2020-02-27T14:45:52.586540  ca4e37f5-6b6c-4b73-887f-cf8f6f175160  None   \n",
       "3   2020-04-01T15:53:37.801486  843bfea9-ad50-4701-bce6-0b6acea9c080  None   \n",
       "4   2020-04-01T15:56:10.799996  10792899-d3ed-49c3-9a67-3eb2a3dc61fb  None   \n",
       "5   2020-04-01T15:57:48.751851  40cf1794-9c94-4be2-a082-34d4fe453762  None   \n",
       "6   2020-04-29T21:30:59.143689  603371a4-e55c-4953-a779-1c91169bfcd3  None   \n",
       "7   2020-04-29T21:31:51.422127  d0cc62ec-1786-4bfe-9111-7d572029193d  None   \n",
       "8   2020-04-29T21:32:59.195983  cdb89728-af32-4225-92cb-8022ca303f45  None   \n",
       "9   2020-05-29T02:59:47.966577  8bfcd662-8858-413e-afe0-dd58bda47b6d  None   \n",
       "10  2020-05-29T03:01:43.662433  23273394-8502-41c4-855d-b369ea1eac21  None   \n",
       "11  2020-05-29T03:02:49.989647  1939f15c-7a78-4732-b078-fedbf9ea9dff  None   \n",
       "12  2020-06-30T15:00:00.600423  fa6c8b12-5655-47b8-bbf1-f1d74135edce  None   \n",
       "13  2020-06-30T15:02:12.265220  34398713-fb07-4975-8aff-c37380baf53c  None   \n",
       "14  2020-06-30T15:03:09.418796  34398713-fb07-4975-8aff-c37380baf53c  None   \n",
       "\n",
       "                    package_name                 package_title  \\\n",
       "0   registro-de-exportacion-2020  Registro de Exportación 2020   \n",
       "1   registro-de-exportacion-2020  Registro de Exportación 2020   \n",
       "2   registro-de-exportacion-2020  Registro de Exportación 2020   \n",
       "3   registro-de-exportacion-2020  Registro de Exportación 2020   \n",
       "4   registro-de-exportacion-2020  Registro de Exportación 2020   \n",
       "5   registro-de-exportacion-2020  Registro de Exportación 2020   \n",
       "6   registro-de-exportacion-2020  Registro de Exportación 2020   \n",
       "7   registro-de-exportacion-2020  Registro de Exportación 2020   \n",
       "8   registro-de-exportacion-2020  Registro de Exportación 2020   \n",
       "9   registro-de-exportacion-2020  Registro de Exportación 2020   \n",
       "10  registro-de-exportacion-2020  Registro de Exportación 2020   \n",
       "11  registro-de-exportacion-2020  Registro de Exportación 2020   \n",
       "12  registro-de-exportacion-2020  Registro de Exportación 2020   \n",
       "13  registro-de-exportacion-2020  Registro de Exportación 2020   \n",
       "14  registro-de-exportacion-2020  Registro de Exportación 2020   \n",
       "\n",
       "                                        package_notes  \\\n",
       "0   Muestra el registro de ítems correspondientes ...   \n",
       "1   Muestra el registro de ítems correspondientes ...   \n",
       "2   Muestra el registro de ítems correspondientes ...   \n",
       "3   Muestra el registro de ítems correspondientes ...   \n",
       "4   Muestra el registro de ítems correspondientes ...   \n",
       "5   Muestra el registro de ítems correspondientes ...   \n",
       "6   Muestra el registro de ítems correspondientes ...   \n",
       "7   Muestra el registro de ítems correspondientes ...   \n",
       "8   Muestra el registro de ítems correspondientes ...   \n",
       "9   Muestra el registro de ítems correspondientes ...   \n",
       "10  Muestra el registro de ítems correspondientes ...   \n",
       "11  Muestra el registro de ítems correspondientes ...   \n",
       "12  Muestra el registro de ítems correspondientes ...   \n",
       "13  Muestra el registro de ítems correspondientes ...   \n",
       "14  Muestra el registro de ítems correspondientes ...   \n",
       "\n",
       "                           inst.                     inst_name inst_id  \\\n",
       "0   Servicio Nacional de Aduanas  servicio_nacional_de_aduanas   AE007   \n",
       "1   Servicio Nacional de Aduanas  servicio_nacional_de_aduanas   AE007   \n",
       "2   Servicio Nacional de Aduanas  servicio_nacional_de_aduanas   AE007   \n",
       "3   Servicio Nacional de Aduanas  servicio_nacional_de_aduanas   AE007   \n",
       "4   Servicio Nacional de Aduanas  servicio_nacional_de_aduanas   AE007   \n",
       "5   Servicio Nacional de Aduanas  servicio_nacional_de_aduanas   AE007   \n",
       "6   Servicio Nacional de Aduanas  servicio_nacional_de_aduanas   AE007   \n",
       "7   Servicio Nacional de Aduanas  servicio_nacional_de_aduanas   AE007   \n",
       "8   Servicio Nacional de Aduanas  servicio_nacional_de_aduanas   AE007   \n",
       "9   Servicio Nacional de Aduanas  servicio_nacional_de_aduanas   AE007   \n",
       "10  Servicio Nacional de Aduanas  servicio_nacional_de_aduanas   AE007   \n",
       "11  Servicio Nacional de Aduanas  servicio_nacional_de_aduanas   AE007   \n",
       "12  Servicio Nacional de Aduanas  servicio_nacional_de_aduanas   AE007   \n",
       "13  Servicio Nacional de Aduanas  servicio_nacional_de_aduanas   AE007   \n",
       "14  Servicio Nacional de Aduanas  servicio_nacional_de_aduanas   AE007   \n",
       "\n",
       "           dia    year  mes  \n",
       "0   2020-02-27  2020.0  2.0  \n",
       "1   2020-02-27  2020.0  2.0  \n",
       "2   2020-02-27  2020.0  2.0  \n",
       "3   2020-04-01  2020.0  4.0  \n",
       "4   2020-04-01  2020.0  4.0  \n",
       "5   2020-04-01  2020.0  4.0  \n",
       "6   2020-04-29  2020.0  4.0  \n",
       "7   2020-04-29  2020.0  4.0  \n",
       "8   2020-04-29  2020.0  4.0  \n",
       "9   2020-05-29  2020.0  5.0  \n",
       "10  2020-05-29  2020.0  5.0  \n",
       "11  2020-05-29  2020.0  5.0  \n",
       "12  2020-06-30  2020.0  6.0  \n",
       "13  2020-06-30  2020.0  6.0  \n",
       "14  2020-06-30  2020.0  6.0  "
      ]
     },
     "execution_count": 55,
     "metadata": {},
     "output_type": "execute_result"
    }
   ],
   "source": [
    "es.test_index(i[0],n=15)"
   ]
  },
  {
   "cell_type": "code",
   "execution_count": 56,
   "metadata": {},
   "outputs": [
    {
     "name": "stdout",
     "output_type": "stream",
     "text": [
      "[{'epoch': '1593568120', 'timestamp': '01:48:40', 'count': '10558'}]\n"
     ]
    }
   ],
   "source": [
    "es.count_documents(i[0])"
   ]
  }
 ],
 "metadata": {
  "kernelspec": {
   "display_name": "Python 3",
   "language": "python",
   "name": "python3"
  },
  "language_info": {
   "codemirror_mode": {
    "name": "ipython",
    "version": 3
   },
   "file_extension": ".py",
   "mimetype": "text/x-python",
   "name": "python",
   "nbconvert_exporter": "python",
   "pygments_lexer": "ipython3",
   "version": "3.7.6"
  }
 },
 "nbformat": 4,
 "nbformat_minor": 2
}
