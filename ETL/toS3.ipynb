{
 "cells": [
  {
   "cell_type": "code",
   "execution_count": 3,
   "metadata": {},
   "outputs": [],
   "source": [
    "import boto3\n",
    "import os"
   ]
  },
  {
   "cell_type": "code",
   "execution_count": 4,
   "metadata": {},
   "outputs": [],
   "source": [
    "ACCESS_KEY = os.environ['S3_ACCESS_KEY']\n",
    "SECRET_KEY = os.environ['S3_SECRET_KEY']\n",
    "bucket=os.environ['S3_BUCKET']"
   ]
  },
  {
   "cell_type": "code",
   "execution_count": 5,
   "metadata": {},
   "outputs": [],
   "source": [
    "s3 = boto3.client('s3', aws_access_key_id=ACCESS_KEY,\n",
    "                      aws_secret_access_key=SECRET_KEY)"
   ]
  },
  {
   "cell_type": "code",
   "execution_count": 6,
   "metadata": {},
   "outputs": [],
   "source": [
    "path='/data/ETLcache'"
   ]
  },
  {
   "cell_type": "code",
   "execution_count": 7,
   "metadata": {},
   "outputs": [],
   "source": [
    "filelist= [file for file in os.listdir(path) if file.endswith('.png')]"
   ]
  },
  {
   "cell_type": "code",
   "execution_count": 8,
   "metadata": {},
   "outputs": [
    {
     "data": {
      "text/plain": [
       "['Muertes_por_Millon_Hab._SOCHIMI.png',\n",
       " 'Muertes_MM_SOCHIMI.png',\n",
       " 'Muertes_ConfirmadosPCR+.png',\n",
       " 'Muertes_MM_Millón_ConfirmadosPCR+.png',\n",
       " 'Muertes_DEIS.png',\n",
       " 'Muertes_MM_DEIS.png',\n",
       " 'Muertes_por_Millon_Hab._DEIS.png',\n",
       " 'Muertes_SOCHIMI.png',\n",
       " 'Muertes_por_Millon_Hab._ConfirmadosPCR+.png']"
      ]
     },
     "execution_count": 8,
     "metadata": {},
     "output_type": "execute_result"
    }
   ],
   "source": [
    "filelist"
   ]
  },
  {
   "cell_type": "code",
   "execution_count": 18,
   "metadata": {},
   "outputs": [],
   "source": [
    "for f in filelist:\n",
    "    s3.upload_file(path+'/'+f, bucket, f, ExtraArgs={'ACL':'public-read'})"
   ]
  }
 ],
 "metadata": {
  "kernelspec": {
   "display_name": "Python 3",
   "language": "python",
   "name": "python3"
  },
  "language_info": {
   "codemirror_mode": {
    "name": "ipython",
    "version": 3
   },
   "file_extension": ".py",
   "mimetype": "text/x-python",
   "name": "python",
   "nbconvert_exporter": "python",
   "pygments_lexer": "ipython3",
   "version": "3.8.5"
  }
 },
 "nbformat": 4,
 "nbformat_minor": 4
}
