{
 "cells": [
  {
   "cell_type": "code",
   "execution_count": 191,
   "metadata": {},
   "outputs": [],
   "source": [
    "import os\n",
    "import sys\n",
    "import requests\n",
    "from importlib import reload\n",
    "import json\n",
    "from datetime import datetime\n",
    "import copy"
   ]
  },
  {
   "cell_type": "code",
   "execution_count": 192,
   "metadata": {},
   "outputs": [],
   "source": [
    "sys.path.append('..') #agregar directorio madre del repo para poder importar librerias customizadas\n",
    "#importar librerias customizadas"
   ]
  },
  {
   "cell_type": "code",
   "execution_count": 193,
   "metadata": {},
   "outputs": [
    {
     "data": {
      "text/plain": [
       "<module 'ETL.Elastic_Module' from '../ETL/Elastic_Module.py'>"
      ]
     },
     "execution_count": 193,
     "metadata": {},
     "output_type": "execute_result"
    }
   ],
   "source": [
    "import ETL.Elastic_Module\n",
    "reload(ETL.Elastic_Module)"
   ]
  },
  {
   "cell_type": "code",
   "execution_count": 194,
   "metadata": {},
   "outputs": [],
   "source": [
    "from ETL.Elastic_Module import *"
   ]
  },
  {
   "cell_type": "code",
   "execution_count": 217,
   "metadata": {},
   "outputs": [
    {
     "data": {
      "text/plain": [
       "<module 'kibana_backup' from '/home/jovyan/work/backup_kibana/kibana_backup.py'>"
      ]
     },
     "execution_count": 217,
     "metadata": {},
     "output_type": "execute_result"
    }
   ],
   "source": [
    "import kibana_backup\n",
    "reload(kibana_backup)"
   ]
  },
  {
   "cell_type": "code",
   "execution_count": 218,
   "metadata": {},
   "outputs": [],
   "source": [
    "from kibana_backup import *"
   ]
  },
  {
   "cell_type": "code",
   "execution_count": 197,
   "metadata": {},
   "outputs": [],
   "source": [
    "args={}\n",
    "args['elastic_user']='elastic'\n",
    "args['elastic_psswd']=os.environ['ELASTIC_PASSWD']\n",
    "args['kibana_url']='https://staging.kibana.wenuwork.cl'"
   ]
  },
  {
   "cell_type": "code",
   "execution_count": 198,
   "metadata": {},
   "outputs": [],
   "source": [
    "#Cargar backup de Kibana\n",
    "path='backups/'\n",
    "file='kibana_bckp05_13_2020__06_30_44.json'\n",
    "with open(path+file, 'r') as fp:\n",
    "    back=json.load(fp)"
   ]
  },
  {
   "cell_type": "code",
   "execution_count": 199,
   "metadata": {},
   "outputs": [],
   "source": [
    "#cargar mapping de index patterns\n",
    "path='parameters/'\n",
    "file='_index_pattern_mapping_05_14_2020__06_32_26.json'\n",
    "with open(path+file, 'r') as fp:\n",
    "    index_pattern_mapping=json.load(fp)\n",
    "    \n",
    "#cargar mappingg de nombres de campos en visualizaciones\n",
    "path='parameters/'\n",
    "file='_viz_field_mapping_05_14_2020__06_31_50.json'\n",
    "with open(path+file, 'r') as fp:\n",
    "    viz_fields_mapping=json.load(fp)"
   ]
  },
  {
   "cell_type": "code",
   "execution_count": 219,
   "metadata": {},
   "outputs": [],
   "source": [
    "replaced=change_index_pattern_references(back,types=['visualization', 'dashboard'],mapping=index_pattern_mapping)"
   ]
  },
  {
   "cell_type": "code",
   "execution_count": 220,
   "metadata": {},
   "outputs": [],
   "source": [
    "replaced=change_viz_fields(replaced,mapping=viz_fields_mapping)"
   ]
  },
  {
   "cell_type": "code",
   "execution_count": 222,
   "metadata": {},
   "outputs": [
    {
     "name": "stdout",
     "output_type": "stream",
     "text": [
      "POST https://staging.kibana.wenuwork.cl/api/saved_objects/visualization/9798a200-56ea-11ea-a1c5-ed7c7dd23648?overwrite=true\n",
      "OK\n",
      "POST https://staging.kibana.wenuwork.cl/api/saved_objects/visualization/154f3c60-5761-11ea-bcce-ef5dea4480b9?overwrite=true\n",
      "OK\n",
      "POST https://staging.kibana.wenuwork.cl/api/saved_objects/visualization/355b9210-57a7-11ea-9f3f-0d4ea13c4188?overwrite=true\n",
      "OK\n",
      "POST https://staging.kibana.wenuwork.cl/api/saved_objects/visualization/ee7687e0-5843-11ea-9f3f-0d4ea13c4188?overwrite=true\n",
      "OK\n",
      "POST https://staging.kibana.wenuwork.cl/api/saved_objects/visualization/a6a8caa0-584c-11ea-9f3f-0d4ea13c4188?overwrite=true\n",
      "OK\n",
      "POST https://staging.kibana.wenuwork.cl/api/saved_objects/visualization/94b93a60-584b-11ea-9f3f-0d4ea13c4188?overwrite=true\n",
      "OK\n",
      "POST https://staging.kibana.wenuwork.cl/api/saved_objects/visualization/dac5d7f0-5848-11ea-9f3f-0d4ea13c4188?overwrite=true\n",
      "OK\n",
      "POST https://staging.kibana.wenuwork.cl/api/saved_objects/visualization/86a47070-56e3-11ea-a1c5-ed7c7dd23648?overwrite=true\n",
      "OK\n",
      "POST https://staging.kibana.wenuwork.cl/api/saved_objects/visualization/9f700200-584f-11ea-9f3f-0d4ea13c4188?overwrite=true\n",
      "OK\n",
      "POST https://staging.kibana.wenuwork.cl/api/saved_objects/visualization/701c3530-5856-11ea-9f3f-0d4ea13c4188?overwrite=true\n",
      "OK\n",
      "POST https://staging.kibana.wenuwork.cl/api/saved_objects/visualization/e5f42410-584d-11ea-9f3f-0d4ea13c4188?overwrite=true\n",
      "OK\n",
      "POST https://staging.kibana.wenuwork.cl/api/saved_objects/visualization/175d1ce0-57a5-11ea-9f3f-0d4ea13c4188?overwrite=true\n",
      "OK\n",
      "POST https://staging.kibana.wenuwork.cl/api/saved_objects/visualization/4a572130-5855-11ea-9f3f-0d4ea13c4188?overwrite=true\n",
      "OK\n",
      "POST https://staging.kibana.wenuwork.cl/api/saved_objects/visualization/503b70e0-57a3-11ea-9f3f-0d4ea13c4188?overwrite=true\n",
      "OK\n",
      "POST https://staging.kibana.wenuwork.cl/api/saved_objects/visualization/595ffc50-5842-11ea-9f3f-0d4ea13c4188?overwrite=true\n",
      "OK\n",
      "POST https://staging.kibana.wenuwork.cl/api/saved_objects/visualization/3e6ce5b0-576c-11ea-a6b5-171686295fa0?overwrite=true\n",
      "OK\n",
      "POST https://staging.kibana.wenuwork.cl/api/saved_objects/visualization/abce7440-5855-11ea-9f3f-0d4ea13c4188?overwrite=true\n",
      "OK\n",
      "POST https://staging.kibana.wenuwork.cl/api/saved_objects/visualization/18685d50-56df-11ea-a1c5-ed7c7dd23648?overwrite=true\n",
      "OK\n",
      "POST https://staging.kibana.wenuwork.cl/api/saved_objects/dashboard/1fc72310-5761-11ea-bcce-ef5dea4480b9?overwrite=true\n",
      "OK\n",
      "POST https://staging.kibana.wenuwork.cl/api/saved_objects/dashboard/d62c4f50-5eae-11ea-aacd-fda528263288?overwrite=true\n",
      "OK\n",
      "POST https://staging.kibana.wenuwork.cl/api/saved_objects/dashboard/50982c60-56de-11ea-a1c5-ed7c7dd23648?overwrite=true\n",
      "OK\n"
     ]
    }
   ],
   "source": [
    "restore(args['kibana_url'], args['elastic_user'], args['elastic_psswd'], json.dumps(replaced))"
   ]
  },
  {
   "cell_type": "code",
   "execution_count": null,
   "metadata": {},
   "outputs": [],
   "source": []
  }
 ],
 "metadata": {
  "kernelspec": {
   "display_name": "Python 3",
   "language": "python",
   "name": "python3"
  },
  "language_info": {
   "codemirror_mode": {
    "name": "ipython",
    "version": 3
   },
   "file_extension": ".py",
   "mimetype": "text/x-python",
   "name": "python",
   "nbconvert_exporter": "python",
   "pygments_lexer": "ipython3",
   "version": "3.7.4"
  }
 },
 "nbformat": 4,
 "nbformat_minor": 2
}
