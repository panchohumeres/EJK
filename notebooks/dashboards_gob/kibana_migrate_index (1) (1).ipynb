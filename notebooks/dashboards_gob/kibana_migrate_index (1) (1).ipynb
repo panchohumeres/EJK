{
 "cells": [
  {
   "cell_type": "code",
   "execution_count": 1,
   "metadata": {},
   "outputs": [],
   "source": [
    "# SCRIPT PARA CAMBIAR ELEMENTOS DE KIBANA (VISUALIZACIONES Y DASHBOARDS) DE UN INDICE A OTRO\n",
    "#python 2.7"
   ]
  },
  {
   "cell_type": "code",
   "execution_count": 2,
   "metadata": {},
   "outputs": [],
   "source": [
    "import json"
   ]
  },
  {
   "cell_type": "code",
   "execution_count": 3,
   "metadata": {},
   "outputs": [],
   "source": [
    "filename='export_ckan(7).ndjson' #ruta o nombre archivo origen (exportado de kibana)"
   ]
  },
  {
   "cell_type": "code",
   "execution_count": 4,
   "metadata": {},
   "outputs": [],
   "source": [
    "suffix='junar' #sufijo para nuevo archivo\n",
    "filename_out='export_'+suffix+'.ndjson'"
   ]
  },
  {
   "cell_type": "code",
   "execution_count": 5,
   "metadata": {},
   "outputs": [],
   "source": [
    "#importar los elementos de kibana como json separados (vienen unidos, uno por linea en el .njson)\n",
    "#data=[]\n",
    "#with open(filename) as f:\n",
    "#    for line in f:\n",
    "#        data.append(json.loads(line))"
   ]
  },
  {
   "cell_type": "code",
   "execution_count": 7,
   "metadata": {},
   "outputs": [],
   "source": [
    "#importar elementos de kibana como string\n",
    "with open(filename, 'r') as file:\n",
    "    string = file.read()"
   ]
  },
  {
   "cell_type": "code",
   "execution_count": 26,
   "metadata": {},
   "outputs": [],
   "source": [
    "dictionary={ #diccionario para reemplazar terminos\n",
    "\n",
    "'69228140-16ed-11e9-8937-a3fdf9a88996':'edd713a0-b17b-11e9-8d71-81c145e2fabe', #id index origen para reemplazar,  #id index destino (nuevo)\n",
    "\n",
    "'ckan':'junar', #nombre de antiguo index pattern #nombre de nuevo index pattern\n",
    "#extras (labels etc)\n",
    "    'datasets':'Recursos',\n",
    "    'Datasets':'Recursos',\n",
    "    'CKAN':'Junar'\n",
    "\n",
    "\n",
    "}"
   ]
  },
  {
   "cell_type": "code",
   "execution_count": 27,
   "metadata": {},
   "outputs": [],
   "source": [
    "#subsituir strings\n",
    "new_string=string\n",
    "for key in dictionary.iterkeys():\n",
    "    new_string=new_string.replace(key, dictionary[key])\n",
    "\n"
   ]
  },
  {
   "cell_type": "code",
   "execution_count": 28,
   "metadata": {},
   "outputs": [],
   "source": [
    "#exportar nuevos elementos de kibana como string\n",
    "with open(filename_out, \"w\") as text_file:\n",
    "    text_file.write(new_string)"
   ]
  },
  {
   "cell_type": "code",
   "execution_count": null,
   "metadata": {},
   "outputs": [],
   "source": []
  }
 ],
 "metadata": {
  "kernelspec": {
   "display_name": "Python 3",
   "language": "python",
   "name": "python3"
  },
  "language_info": {
   "codemirror_mode": {
    "name": "ipython",
    "version": 3
   },
   "file_extension": ".py",
   "mimetype": "text/x-python",
   "name": "python",
   "nbconvert_exporter": "python",
   "pygments_lexer": "ipython3",
   "version": "3.7.3"
  }
 },
 "nbformat": 4,
 "nbformat_minor": 2
}
