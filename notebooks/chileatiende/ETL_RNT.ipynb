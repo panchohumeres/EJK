{
 "cells": [
  {
   "cell_type": "code",
   "execution_count": 1,
   "metadata": {},
   "outputs": [],
   "source": [
    "import requests\n",
    "import pandas as pd\n",
    "import numpy as np\n",
    "import sys\n",
    "from importlib import reload\n",
    "import os.path\n",
    "from os import path\n",
    "import sys"
   ]
  },
  {
   "cell_type": "code",
   "execution_count": 6,
   "metadata": {},
   "outputs": [],
   "source": [
    "sys.path.append('..') #agregar directorio madre del repo para poder importar librerias customizadas\n",
    "#importar librerias customizadas"
   ]
  },
  {
   "cell_type": "code",
   "execution_count": 7,
   "metadata": {},
   "outputs": [
    {
     "data": {
      "text/plain": [
       "<module 'modules.Elastic_Module' from '../modules/Elastic_Module.py'>"
      ]
     },
     "execution_count": 7,
     "metadata": {},
     "output_type": "execute_result"
    }
   ],
   "source": [
    "import modules.Elastic_Module\n",
    "reload(modules.Elastic_Module)"
   ]
  },
  {
   "cell_type": "code",
   "execution_count": 8,
   "metadata": {},
   "outputs": [],
   "source": [
    "from modules.Elastic_Module import *"
   ]
  },
  {
   "cell_type": "code",
   "execution_count": 9,
   "metadata": {},
   "outputs": [],
   "source": [
    "URI='/data/cha/Registro Nacional de Trámites 2018 Indicador Trámites digitalizados (DGD).xlsx' #URL CON RNT 2018"
   ]
  },
  {
   "cell_type": "code",
   "execution_count": 15,
   "metadata": {},
   "outputs": [],
   "source": [
    "rnt=pd.read_excel(URI,encoding='utf-8',sheet_name=1)"
   ]
  },
  {
   "cell_type": "code",
   "execution_count": null,
   "metadata": {},
   "outputs": [],
   "source": [
    "cha_mapping={ #campos sin cambio de nombre en CHA\n",
    "                'Institución':'servicio',\n",
    "             'Nombre del trámite':'titulo',\n",
    "                'Descripción':'objetivo', #descripción trámite\n",
    "                'Pago':'costo', #descripción si tiene costo , valores ['No', 'Si', 'No informa', 'En algunos casos']\n",
    "    \n",
    "    #campos CON cambio de nombre en CHA\n",
    "    'URL ChileAtiende':'url_chileatiende', #url de la ficha chileatiende\n",
    " 'URL Normativa':'url_marco_legal', #url marco legal\n",
    " 'URL institucional': 'url_guia_institucional', #url descripción institucional\n",
    "    \n",
    "    #mapeo de campos derivados en CHA\n",
    "    'Canal(es) de atención Presencial':'atencion_presencial', #flag de atención presencial\n",
    "             'Canal(es) de atención Telefónico':'atencion_telefonico', #flag de atención telefónica\n",
    "    'Canal(es) de atención Digital': 'atencion_digital', #flag de atención digital\n",
    "             \n",
    "            }"
   ]
  },
  {
   "cell_type": "code",
   "execution_count": null,
   "metadata": {},
   "outputs": [],
   "source": []
  },
  {
   "cell_type": "code",
   "execution_count": 17,
   "metadata": {},
   "outputs": [
    {
     "data": {
      "text/plain": [
       "Index(['Ministerio', 'Institución', 'ID Trámite ', 'ID en aplicativo DIPRES',\n",
       "       'Compromiso 2019', 'Nombre del trámite', 'Descripción',\n",
       "       'Canal(es) de atención Digital', 'Canal(es) de atención Presencial',\n",
       "       'Canal(es) de atención Telefónico', 'Nivel Digitalización',\n",
       "       '¿Por qué es el máximo nivel a alcanzar?',\n",
       "       'Indicar restricciones asociadas a la naturaleza del trámite',\n",
       "       'Indicar restricciones legales', 'Normativa vigente', 'URL Normativa',\n",
       "       'URL institucional', 'Ficha ChileAtiende', 'URL ChileAtiende',\n",
       "       'Estacionalidad', 'Postulable', 'Mecanismo de autenticación', 'Pago',\n",
       "       'Permiso sectorial', 'Fondo concursable', 'Usuario(s) Ciudadano',\n",
       "       'Usuario(s) Emprendedor', 'Usuario(s) Empresa',\n",
       "       'Usuario(s) Otra institución', 'Vulnerable según RSH',\n",
       "       'Registro de uso', 'Total transacciones Enero - Noviembre 2018',\n",
       "       'Transacciones Canal Digital (Enero - Noviembre 2018)',\n",
       "       'Transacciones Canal Presencial (Enero - Noviembre 2018)',\n",
       "       'Transacciones Canal Telefónico (Enero - Noviembre 2018)'],\n",
       "      dtype='object')"
      ]
     },
     "execution_count": 17,
     "metadata": {},
     "output_type": "execute_result"
    }
   ],
   "source": [
    "rnt.columns"
   ]
  },
  {
   "cell_type": "code",
   "execution_count": 23,
   "metadata": {},
   "outputs": [
    {
     "data": {
      "text/plain": [
       "array(['No', 'Si', 'No informa', 'En algunos casos'], dtype=object)"
      ]
     },
     "execution_count": 23,
     "metadata": {},
     "output_type": "execute_result"
    }
   ],
   "source": [
    "rnt['Pago'].unique()"
   ]
  },
  {
   "cell_type": "code",
   "execution_count": null,
   "metadata": {},
   "outputs": [],
   "source": []
  }
 ],
 "metadata": {
  "kernelspec": {
   "display_name": "Python 3",
   "language": "python",
   "name": "python3"
  },
  "language_info": {
   "codemirror_mode": {
    "name": "ipython",
    "version": 3
   },
   "file_extension": ".py",
   "mimetype": "text/x-python",
   "name": "python",
   "nbconvert_exporter": "python",
   "pygments_lexer": "ipython3",
   "version": "3.7.6"
  }
 },
 "nbformat": 4,
 "nbformat_minor": 4
}
